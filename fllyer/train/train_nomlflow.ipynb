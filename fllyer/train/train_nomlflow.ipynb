{
 "cells": [
  {
   "cell_type": "code",
   "execution_count": null,
   "metadata": {},
   "outputs": [],
   "source": [
    "import torch\n",
    "from torch.utils.data import DataLoader\n",
    "from transformers import AutoTokenizer, AutoModelForCausalLM, AdamW, get_scheduler\n",
    "from datasets import load_dataset\n",
    "from tqdm import tqdm\n",
    "\n",
    "import os\n",
    "os.environ[\"TOKENIZERS_PARALLELISM\"] = \"false\"\n",
    "device = 'cuda' if torch.cuda.is_available() else 'cpu'"
   ]
  },
  {
   "cell_type": "code",
   "execution_count": null,
   "metadata": {},
   "outputs": [],
   "source": [
    "def load_and_tokenize_data(filename):\n",
    "    dataset = load_dataset('text', data_files={'train': filename})\n",
    "    split_datasets = dataset[\"train\"].train_test_split(test_size=0.2)\n",
    "    train_dataset = split_datasets['train']\n",
    "    test_dataset = split_datasets['test']\n",
    "\n",
    "    def tokenize_and_pad(examples):\n",
    "        output = tokenizer(\n",
    "            examples[\"text\"], \n",
    "            truncation=True, \n",
    "            padding='max_length', \n",
    "            max_length=512, \n",
    "            return_tensors='pt'\n",
    "        )\n",
    "        return output\n",
    "\n",
    "    # default to left padding\n",
    "    tokenizer.padding_side = \"left\"\n",
    "    # Define PAD Token = EOS Token = 50256\n",
    "    tokenizer.pad_token = tokenizer.eos_token\n",
    "    tokenized_train_dataset = train_dataset.map(tokenize_and_pad, batched=True, remove_columns=['text'])\n",
    "    tokenized_test_dataset = test_dataset.map(tokenize_and_pad, batched=True, remove_columns=['text'])\n",
    "    return tokenized_train_dataset, tokenized_test_dataset"
   ]
  },
  {
   "cell_type": "code",
   "execution_count": null,
   "metadata": {},
   "outputs": [],
   "source": [
    "def create_dataloaders(train_dataset, test_dataset, batch_size):\n",
    "    def collate_fn(batch):\n",
    "        input_ids = [item['input_ids'] for item in batch]\n",
    "        attention_mask = [item['attention_mask'] for item in batch]\n",
    "        return {'input_ids': torch.tensor(input_ids), 'attention_mask': torch.tensor(attention_mask)}\n",
    "    \n",
    "    train_dataloader = DataLoader(train_dataset, shuffle=True, batch_size=batch_size, collate_fn=collate_fn, pin_memory=True)\n",
    "    val_dataloader = DataLoader(test_dataset, shuffle=False, batch_size=batch_size, collate_fn=collate_fn, pin_memory=True)\n",
    "    return train_dataloader, val_dataloader"
   ]
  },
  {
   "cell_type": "code",
   "execution_count": null,
   "metadata": {},
   "outputs": [],
   "source": [
    "def move_batch_to_device(batch, device):\n",
    "        return {k: v.to(device) for k, v in batch.items()}\n",
    "\n",
    "def train_model(model, train_dataloader, val_dataloader, optimizer, lr_scheduler, num_epochs):\n",
    "\n",
    "        model.to(device)\n",
    "        progress_bar = tqdm(range(num_epochs * len(train_dataloader)))\n",
    "\n",
    "        model.train()\n",
    "        for epoch in range(num_epochs):\n",
    "            for batch in train_dataloader:\n",
    "                batch = move_batch_to_device(batch, device)\n",
    "                outputs = model(input_ids=batch['input_ids'], attention_mask=batch['attention_mask'], labels=batch['input_ids'])\n",
    "                loss = outputs.loss\n",
    "                loss.backward()\n",
    "                optimizer.step()\n",
    "\n",
    "                lr_scheduler.step()\n",
    "\n",
    "                optimizer.zero_grad()\n",
    "                progress_bar.update(1)\n",
    "\n",
    "            avg_val_loss = evaluate_model(model, val_dataloader, device)\n",
    "            print(f\"Validation loss: {avg_val_loss}\")\n",
    "            model.train()\n",
    "\n",
    "        # Save the model state\n",
    "        torch.save(model.state_dict(), \"model.pth\")\n",
    "\n",
    "        # Save optimizer state\n",
    "        torch.save(optimizer.state_dict(), \"optimizer.pth\")\n",
    "\n",
    "        # Save scheduler state\n",
    "        torch.save(lr_scheduler.state_dict(), \"scheduler.pth\")\n",
    "\n",
    "def evaluate_model(model, dataloader, device):\n",
    "    model.eval()\n",
    "    total_loss = 0\n",
    "    with torch.no_grad():\n",
    "        for batch in dataloader:\n",
    "            batch = move_batch_to_device(batch, device)\n",
    "            outputs = model(**batch)\n",
    "            total_loss += outputs.loss.item()\n",
    "    return total_loss / len(dataloader)"
   ]
  },
  {
   "cell_type": "code",
   "execution_count": null,
   "metadata": {},
   "outputs": [],
   "source": [
    "# usage\n",
    "\n",
    "tokenizer = AutoTokenizer.from_pretrained(\"distilgpt2\")\n",
    "model = AutoModelForCausalLM.from_pretrained(\"distilgpt2\")\n",
    "\n",
    "# resize model embedding to match new tokenizer\n",
    "model.resize_token_embeddings(len(tokenizer))\n",
    "\n",
    "# fix model padding token id\n",
    "model.config.pad_token_id = model.config.eos_token_id\n",
    "\n",
    "filename = 'data/clean_29_07_2023.txt'\n",
    "train_dataset, test_dataset = load_and_tokenize_data(filename)\n",
    "train_dataloader, val_dataloader = create_dataloaders(train_dataset, test_dataset, batch_size=10)"
   ]
  },
  {
   "cell_type": "code",
   "execution_count": null,
   "metadata": {},
   "outputs": [],
   "source": [
    "optimizer = torch.optim.AdamW(model.parameters(), lr=2e-5)\n",
    "num_epochs = 3\n",
    "num_training_steps = num_epochs * len(train_dataloader)\n",
    "lr_scheduler = get_scheduler(\"linear\", optimizer=optimizer, num_warmup_steps=0, num_training_steps=num_training_steps)\n",
    "train_model(model, train_dataloader, val_dataloader, optimizer, lr_scheduler, num_epochs)"
   ]
  }
 ],
 "metadata": {
  "kernelspec": {
   "display_name": "torch-env",
   "language": "python",
   "name": "python3"
  },
  "language_info": {
   "codemirror_mode": {
    "name": "ipython",
    "version": 3
   },
   "file_extension": ".py",
   "mimetype": "text/x-python",
   "name": "python",
   "nbconvert_exporter": "python",
   "pygments_lexer": "ipython3",
   "version": "3.9.17"
  },
  "orig_nbformat": 4
 },
 "nbformat": 4,
 "nbformat_minor": 2
}
