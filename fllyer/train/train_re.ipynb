{
 "cells": [
  {
   "cell_type": "code",
   "execution_count": 1,
   "metadata": {},
   "outputs": [
    {
     "name": "stderr",
     "output_type": "stream",
     "text": [
      "/home/rhuu/anaconda3/envs/torch-env/lib/python3.9/site-packages/tqdm/auto.py:21: TqdmWarning: IProgress not found. Please update jupyter and ipywidgets. See https://ipywidgets.readthedocs.io/en/stable/user_install.html\n",
      "  from .autonotebook import tqdm as notebook_tqdm\n"
     ]
    }
   ],
   "source": [
    "import torch\n",
    "from torch.utils.data import DataLoader\n",
    "from transformers import AutoTokenizer, AutoModelForCausalLM, AdamW, get_scheduler\n",
    "from datasets import load_dataset\n",
    "from tqdm import tqdm\n",
    "\n",
    "device = 'cuda' if torch.cuda.is_available() else 'cpu'"
   ]
  },
  {
   "cell_type": "code",
   "execution_count": 2,
   "metadata": {},
   "outputs": [],
   "source": [
    "def load_and_tokenize_data(filename):\n",
    "    dataset = load_dataset('text', data_files={'train': filename})\n",
    "    split_datasets = dataset[\"train\"].train_test_split(test_size=0.2)\n",
    "    train_dataset = split_datasets['train']\n",
    "    test_dataset = split_datasets['test']\n",
    "\n",
    "    def tokenize_and_pad(examples):\n",
    "        output = tokenizer(\n",
    "            examples[\"text\"], \n",
    "            truncation=True, \n",
    "            padding='max_length', \n",
    "            max_length=512, \n",
    "            return_tensors='pt'\n",
    "        )\n",
    "        return output\n",
    "\n",
    "    tokenizer.pad_token = tokenizer.eos_token\n",
    "    tokenized_train_dataset = train_dataset.map(tokenize_and_pad, batched=True, remove_columns=['text'])\n",
    "    tokenized_test_dataset = test_dataset.map(tokenize_and_pad, batched=True, remove_columns=['text'])\n",
    "    return tokenized_train_dataset, tokenized_test_dataset"
   ]
  },
  {
   "cell_type": "code",
   "execution_count": 3,
   "metadata": {},
   "outputs": [],
   "source": [
    "def create_dataloaders(train_dataset, test_dataset, batch_size):\n",
    "    def collate_fn(batch):\n",
    "        input_ids = [item['input_ids'] for item in batch]\n",
    "        attention_mask = [item['attention_mask'] for item in batch]\n",
    "        return {'input_ids': torch.tensor(input_ids), 'attention_mask': torch.tensor(attention_mask)}\n",
    "    \n",
    "    train_dataloader = DataLoader(train_dataset, shuffle=True, batch_size=batch_size, collate_fn=collate_fn, pin_memory=True)\n",
    "    val_dataloader = DataLoader(test_dataset, shuffle=False, batch_size=batch_size, collate_fn=collate_fn, pin_memory=True)\n",
    "    return train_dataloader, val_dataloader"
   ]
  },
  {
   "cell_type": "code",
   "execution_count": 4,
   "metadata": {},
   "outputs": [],
   "source": [
    "def move_batch_to_device(batch, device):\n",
    "        return {k: v.to(device) for k, v in batch.items()}\n",
    "    \n",
    "def train_model(model, train_dataloader, val_dataloader, optimizer, lr_scheduler, num_epochs):\n",
    "    model.to(device)\n",
    "    progress_bar = tqdm(range(num_epochs * len(train_dataloader)))\n",
    "    \n",
    "    model.train()\n",
    "    for epoch in range(num_epochs):\n",
    "        for idx, batch in enumerate(train_dataloader):\n",
    "            batch = move_batch_to_device(batch, device)\n",
    "            outputs = model(input_ids=batch['input_ids'], attention_mask=batch['attention_mask'], labels=batch['input_ids'])\n",
    "            loss = outputs.loss\n",
    "            loss.backward()\n",
    "            optimizer.step()\n",
    "            lr_scheduler.step()\n",
    "            optimizer.zero_grad()\n",
    "            progress_bar.update(1)\n",
    "        avg_val_loss = evaluate_model(model, val_dataloader, device)\n",
    "        print(f\"Validation loss: {avg_val_loss}\")\n",
    "        model.train()\n",
    "\n",
    "def evaluate_model(model, dataloader, device):\n",
    "    model.eval()\n",
    "    total_loss = 0\n",
    "    with torch.no_grad():\n",
    "        for batch in dataloader:\n",
    "            batch = move_batch_to_device(batch, device)\n",
    "            outputs = model(**batch)\n",
    "            total_loss += outputs.loss.item()\n",
    "    return total_loss / len(dataloader)"
   ]
  },
  {
   "cell_type": "code",
   "execution_count": 5,
   "metadata": {},
   "outputs": [
    {
     "name": "stderr",
     "output_type": "stream",
     "text": [
      "Map: 100%|██████████| 130976/130976 [00:25<00:00, 5189.33 examples/s]\n",
      "Map: 100%|██████████| 32744/32744 [00:06<00:00, 5381.35 examples/s]\n",
      "/home/rhuu/anaconda3/envs/torch-env/lib/python3.9/site-packages/transformers/optimization.py:411: FutureWarning: This implementation of AdamW is deprecated and will be removed in a future version. Use the PyTorch implementation torch.optim.AdamW instead, or set `no_deprecation_warning=True` to disable this warning\n",
      "  warnings.warn(\n",
      "  0%|          | 10/49116 [01:05<89:32:01,  6.56s/it]"
     ]
    }
   ],
   "source": [
    "# usage\n",
    "tokenizer = AutoTokenizer.from_pretrained(\"distilgpt2\")\n",
    "model = AutoModelForCausalLM.from_pretrained(\"distilgpt2\")\n",
    "filename = 'data/clean_29_07_2023.txt'\n",
    "train_dataset, test_dataset = load_and_tokenize_data(filename)\n",
    "train_dataloader, val_dataloader = create_dataloaders(train_dataset, test_dataset, batch_size=8)\n",
    "optimizer = AdamW(model.parameters(), lr=5e-5)\n",
    "num_epochs = 3\n",
    "num_training_steps = num_epochs * len(train_dataloader)\n",
    "lr_scheduler = get_scheduler(\"linear\", optimizer=optimizer, num_warmup_steps=0, num_training_steps=num_training_steps)\n",
    "train_model(model, train_dataloader, val_dataloader, optimizer, lr_scheduler, num_epochs)\n"
   ]
  },
  {
   "cell_type": "code",
   "execution_count": null,
   "metadata": {},
   "outputs": [],
   "source": []
  }
 ],
 "metadata": {
  "kernelspec": {
   "display_name": "torch-env",
   "language": "python",
   "name": "python3"
  },
  "language_info": {
   "codemirror_mode": {
    "name": "ipython",
    "version": 3
   },
   "file_extension": ".py",
   "mimetype": "text/x-python",
   "name": "python",
   "nbconvert_exporter": "python",
   "pygments_lexer": "ipython3",
   "version": "3.9.17"
  },
  "orig_nbformat": 4
 },
 "nbformat": 4,
 "nbformat_minor": 2
}
